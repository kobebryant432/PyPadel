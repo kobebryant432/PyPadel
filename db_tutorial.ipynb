{
 "cells": [
  {
   "attachments": {},
   "cell_type": "markdown",
   "metadata": {},
   "source": [
    "# Working with the SQL Database in PyPadel"
   ]
  },
  {
   "cell_type": "code",
   "execution_count": null,
   "metadata": {},
   "outputs": [],
   "source": [
    "import os #nopep8\n",
    "import sys #nopep8\n",
    "from pathlib import Path #nopep8\n",
    "\n",
    "# Add the 'src' directory to sys.path\n",
    "current_working_directory = os.getcwd()  # Get the current working directory\n",
    "src_path = (\n",
    "    Path(current_working_directory) / \"src\"\n",
    ")  # Construct the path to the 'src' directory\n",
    "sys.path.append(str(src_path))  # Add 'src' directory to sys.path\n",
    "\n",
    "from pypadel import *\n",
    "from database import *\n",
    "\n",
    "# add a data path\n",
    "db_path = Path(current_working_directory) / \"data\" / \"db\"\n",
    "xlsx_path = Path(current_working_directory) / \"data\" / \"xlsx\""
   ]
  },
  {
   "attachments": {},
   "cell_type": "markdown",
   "metadata": {},
   "source": [
    "## Initializing a SqlDatabase from an exisiting .db file"
   ]
  },
  {
   "cell_type": "code",
   "execution_count": null,
   "metadata": {},
   "outputs": [],
   "source": [
    "db = SqlDatabase.init_from_existing(db_filename=db_path/\"example.db\")"
   ]
  },
  {
   "attachments": {},
   "cell_type": "markdown",
   "metadata": {},
   "source": [
    "## Making a new SqlDatabase from an excel file with matches data"
   ]
  },
  {
   "cell_type": "code",
   "execution_count": null,
   "metadata": {},
   "outputs": [],
   "source": [
    "# This either opens an existing database or creates a new one\n",
    "db_tutorial = SqlDatabase(name=\"test\")"
   ]
  },
  {
   "attachments": {},
   "cell_type": "markdown",
   "metadata": {},
   "source": [
    "## Populating the database with generated match data (useful for testing)"
   ]
  },
  {
   "cell_type": "code",
   "execution_count": null,
   "metadata": {},
   "outputs": [],
   "source": [
    "# db_tutorial = SqlDatabase(name=\"test\")\n",
    "db_tutorial.populate_database(num_matches=10)"
   ]
  },
  {
   "attachments": {},
   "cell_type": "markdown",
   "metadata": {},
   "source": [
    "## Inspecting a SqlDB in notebook\n",
    "\n",
    "To inspect the file in VS Code, install the extension \"SQLite viewer\"\n",
    "\n",
    "The current implementation of the PyPadel SqlDB has two tables:\n",
    "- **matches**: this table holds all the match information as well as raw point data\n",
    "- **players**: this table is a central player database which contains some basic stats about the players' performance in the matches. This table is updated automatically each time a new match is added."
   ]
  },
  {
   "cell_type": "code",
   "execution_count": null,
   "metadata": {},
   "outputs": [],
   "source": [
    "# db_tutorial.table_to_dataframe(\"matches\")\n",
    "db_tutorial.table_to_dataframe(\"players\")"
   ]
  },
  {
   "attachments": {},
   "cell_type": "markdown",
   "metadata": {},
   "source": [
    "## Adding a new match to the SqlDB\n",
    "\n",
    "This is done in exactly the same way as before:\n",
    "1. Start a new match\n",
    "2. Input the match details and raw data\n",
    "3. Add the match to the database"
   ]
  },
  {
   "cell_type": "code",
   "execution_count": null,
   "metadata": {},
   "outputs": [],
   "source": [
    "m = start_match()"
   ]
  },
  {
   "cell_type": "code",
   "execution_count": null,
   "metadata": {},
   "outputs": [],
   "source": [
    "# Add a new match manually\n",
    "# You could also use the existing Match class\n",
    "class MockMatch:\n",
    "    def __init__(self):\n",
    "        self.date = '2023-07-28'\n",
    "        self.tournament = 'PyPadel Open'\n",
    "        self.r = 'Final'\n",
    "        self.players = [Player('Roxanne'), Player('Thomas'), Player('Lebron'), Player('Galan')]\n",
    "        self.type = 1\n",
    "        self.raw_input = [\"4whivc\",\"1wbhvp\",\"3whivc\",\"2whdvm\"]\n",
    "        self.sets_score = \"6-0,6-0\"\n",
    "        self.adv_game = True\n",
    "\n",
    "m = MockMatch()\n",
    "db_tutorial.add_match(m=m, cat='P10')\n",
    "\n",
    "# Retrieve a match\n",
    "retrieved_match = db_tutorial.match_manager.get_most_recent_match()\n",
    "print(retrieved_match)\n",
    "\n",
    "# Always close the database connection when you're done\n",
    "# db_new.close()"
   ]
  },
  {
   "attachments": {},
   "cell_type": "markdown",
   "metadata": {},
   "source": [
    "## Converting an SQL match to a Match object"
   ]
  },
  {
   "cell_type": "code",
   "execution_count": null,
   "metadata": {},
   "outputs": [],
   "source": [
    "match = db_tutorial.match_manager.get_match(1)\n",
    "print(match)"
   ]
  },
  {
   "attachments": {},
   "cell_type": "markdown",
   "metadata": {},
   "source": [
    "## Getting some stats\n",
    "\n",
    "The current methods that allow to get stats are part of the PointStatistics class and MatchStats class. The methods can be inspected in the relevant files \"src/database/sql_database/stats/...\""
   ]
  },
  {
   "cell_type": "code",
   "execution_count": null,
   "metadata": {},
   "outputs": [],
   "source": [
    "db_tutorial.player_manager.stats.point_stats.get_shot_direction_distribution(player_name=\"Player1\", as_percentage=True).head(50)\n",
    "\n",
    "# note that it is possible to look at a specific match by its id or the most n recent matches\n",
    "# db_new.player_manager.stats.point_stats.get_shot_direction_distribution(player_name=\"Florian Vandelanotte\", as_percentage=True, match_id=2)\n",
    "# db_new.player_manager.stats.point_stats.get_shot_direction_distribution(player_name=\"Florian Vandelanotte\", as_percentage=True, recent_n=5)\n"
   ]
  },
  {
   "cell_type": "code",
   "execution_count": null,
   "metadata": {},
   "outputs": [],
   "source": [
    "db_tutorial.player_manager.stats.retrieve_point_statistics(\"Player3\")"
   ]
  },
  {
   "cell_type": "code",
   "execution_count": null,
   "metadata": {},
   "outputs": [],
   "source": [
    "match_stats = db_tutorial.get_match_stats(1)\n",
    "print(match_stats)"
   ]
  },
  {
   "cell_type": "code",
   "execution_count": null,
   "metadata": {},
   "outputs": [],
   "source": [
    "# you can also export an (almost pretty) image of the match summary to a file:\n",
    "db_tutorial.get_match_stats(match_id=1, img_export=True)"
   ]
  },
  {
   "attachments": {},
   "cell_type": "markdown",
   "metadata": {},
   "source": [
    "## Exporting SQL to excel\n",
    "\n",
    "This works the same way as before."
   ]
  },
  {
   "cell_type": "code",
   "execution_count": null,
   "metadata": {},
   "outputs": [],
   "source": [
    "db_tutorial.export_all()"
   ]
  },
  {
   "cell_type": "code",
   "execution_count": null,
   "metadata": {},
   "outputs": [],
   "source": [
    "db_tutorial.export_raw()"
   ]
  }
 ],
 "metadata": {
  "kernelspec": {
   "display_name": "padel-match-stats",
   "language": "python",
   "name": "python3"
  },
  "language_info": {
   "codemirror_mode": {
    "name": "ipython",
    "version": 3
   },
   "file_extension": ".py",
   "mimetype": "text/x-python",
   "name": "python",
   "nbconvert_exporter": "python",
   "pygments_lexer": "ipython3",
   "version": "3.10.13"
  },
  "orig_nbformat": 4
 },
 "nbformat": 4,
 "nbformat_minor": 2
}
